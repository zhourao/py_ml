{
 "cells": [
  {
   "cell_type": "markdown",
   "metadata": {},
   "source": [
    "# 梯度下降法（Gradient Descent）\n",
    "求目标函数的最优值\n",
    "## 1. 概述\n",
    "* 不是一个机器学习算法\n",
    "* 是一种基于搜索的最优化方法\n",
    "* 作用：最小化一个损失函数\n",
    "* 梯度上升法：最大化一个效用函数\n",
    "\n",
    "### 1.1 示例图\n",
    "* 每一个theta值都有一个函数J\n",
    "![](../image/gd1-1.jpeg)\n",
    "<center>1-1 梯度下降法</center>\n",
    "\n",
    "### 1.2 η概述\n",
    "* η成为学习率（learning rate)\n",
    "* η的取值影响获得最优解的速度\n",
    "* η取值不合适，甚至得不到最优解\n",
    "* η是梯度下降法的一个超参数\n",
    "\n",
    "\n",
    "#### η参数相关\n",
    "* η太小，减慢收敛学习速度\n",
    "![](../image/gd1-2.jpeg)\n",
    "<center>1-2 η太小</center>\n",
    "* η太大，甚至导致不收敛\n",
    "![](../image/gd1-3.jpeg)\n",
    "<center>1-3 η太大</center>\n",
    "\n",
    "\n",
    "#### 注意事项\n",
    "* 并不是所有函数都有唯一的极值点\n",
    "\n",
    "![](../image/gd1-4.jpeg)\n",
    "<center>1-4 局部最优解和全局最优解</center>\n",
    "##### 解决方案：\n",
    "* 多次运行，随机化初始点\n",
    "* 梯度下降法的初始点也是一个超参数\n",
    "\n",
    "\n",
    "### 案例\n",
    "* 目标：使 $\\sum_{i=1}^m({y}^{(i)} - \\hat{y}^{(i)})^2$  尽可能小\n",
    "* 线性回归法的损失函数具有唯一的最优解"
   ]
  },
  {
   "cell_type": "markdown",
   "metadata": {},
   "source": [
    "## 2.模拟实现梯度下降法"
   ]
  },
  {
   "cell_type": "code",
   "execution_count": 1,
   "metadata": {},
   "outputs": [
    {
     "data": {
      "text/plain": [
       "array([-1.  , -0.95, -0.9 , -0.85, -0.8 , -0.75, -0.7 , -0.65, -0.6 ,\n",
       "       -0.55, -0.5 , -0.45, -0.4 , -0.35, -0.3 , -0.25, -0.2 , -0.15,\n",
       "       -0.1 , -0.05,  0.  ,  0.05,  0.1 ,  0.15,  0.2 ,  0.25,  0.3 ,\n",
       "        0.35,  0.4 ,  0.45,  0.5 ,  0.55,  0.6 ,  0.65,  0.7 ,  0.75,\n",
       "        0.8 ,  0.85,  0.9 ,  0.95,  1.  ,  1.05,  1.1 ,  1.15,  1.2 ,\n",
       "        1.25,  1.3 ,  1.35,  1.4 ,  1.45,  1.5 ,  1.55,  1.6 ,  1.65,\n",
       "        1.7 ,  1.75,  1.8 ,  1.85,  1.9 ,  1.95,  2.  ,  2.05,  2.1 ,\n",
       "        2.15,  2.2 ,  2.25,  2.3 ,  2.35,  2.4 ,  2.45,  2.5 ,  2.55,\n",
       "        2.6 ,  2.65,  2.7 ,  2.75,  2.8 ,  2.85,  2.9 ,  2.95,  3.  ,\n",
       "        3.05,  3.1 ,  3.15,  3.2 ,  3.25,  3.3 ,  3.35,  3.4 ,  3.45,\n",
       "        3.5 ,  3.55,  3.6 ,  3.65,  3.7 ,  3.75,  3.8 ,  3.85,  3.9 ,\n",
       "        3.95,  4.  ,  4.05,  4.1 ,  4.15,  4.2 ,  4.25,  4.3 ,  4.35,\n",
       "        4.4 ,  4.45,  4.5 ,  4.55,  4.6 ,  4.65,  4.7 ,  4.75,  4.8 ,\n",
       "        4.85,  4.9 ,  4.95,  5.  ,  5.05,  5.1 ,  5.15,  5.2 ,  5.25,\n",
       "        5.3 ,  5.35,  5.4 ,  5.45,  5.5 ,  5.55,  5.6 ,  5.65,  5.7 ,\n",
       "        5.75,  5.8 ,  5.85,  5.9 ,  5.95,  6.  ])"
      ]
     },
     "execution_count": 1,
     "metadata": {},
     "output_type": "execute_result"
    }
   ],
   "source": [
    "import numpy as np\n",
    "import matplotlib.pyplot as plt\n",
    "\n",
    "plot_x = np.linspace(-1, 6, 141)\n",
    "plot_x"
   ]
  },
  {
   "cell_type": "code",
   "execution_count": 2,
   "metadata": {},
   "outputs": [
    {
     "data": {
      "image/png": "[encoded data removed]",
      "text/plain": [
       "<Figure size 432x288 with 1 Axes>"
      ]
     },
     "metadata": {
      "needs_background": "light"
     },
     "output_type": "display_data"
    }
   ],
   "source": [
    "plot_y = (plot_x - 2.5)**2 - 1\n",
    "plt.plot(plot_x, plot_y)\n",
    "plt.show()"
   ]
  },
  {
   "cell_type": "code",
   "execution_count": 3,
   "metadata": {},
   "outputs": [],
   "source": [
    "def dJ(theta):\n",
    "    return 2 * (theta - 2.5)\n",
    "\n",
    "def J(theta):\n",
    "    try:\n",
    "        return (theta - 2.5) ** 2 -1\n",
    "    except:\n",
    "        return float('inf')\n",
    "    \n",
    "def gradient_descent(initial_theta, eta,n_iters =1e4, epsilon = 1e-8):\n",
    "    theta = initial_theta\n",
    "    theta_history.append(initial_theta)\n",
    "    i_iter = 0\n",
    "    while i_iter < n_iters:\n",
    "        gradient = dJ(theta)\n",
    "        last_theta = theta\n",
    "        \n",
    "        theta = theta - eta * gradient\n",
    "        theta_history.append(theta)\n",
    "        \n",
    "        if(abs(J(theta) - J(last_theta)) < epsilon):\n",
    "            break\n",
    "        i_iter += 1\n",
    "            \n",
    "            \n",
    "def plot_theta_history():\n",
    "    plt.plot(plot_x, J(plot_x))\n",
    "    plt.plot(np.array(theta_history), J(np.array(theta_history)), color = 'r', marker='+')\n",
    "    plt.show()"
   ]
  },
  {
   "cell_type": "code",
   "execution_count": 4,
   "metadata": {},
   "outputs": [
    {
     "data": {
      "image/png": "[encoded data removed]",
      "text/plain": [
       "<Figure size 432x288 with 1 Axes>"
      ]
     },
     "metadata": {
      "needs_background": "light"
     },
     "output_type": "display_data"
    },
    {
     "data": {
      "text/plain": [
       "46"
      ]
     },
     "execution_count": 4,
     "metadata": {},
     "output_type": "execute_result"
    }
   ],
   "source": [
    "eta = 0.1\n",
    "theta_history = []\n",
    "gradient_descent(0, eta)\n",
    "plot_theta_history()\n",
    "len(theta_history)"
   ]
  },
  {
   "cell_type": "code",
   "execution_count": 5,
   "metadata": {},
   "outputs": [
    {
     "data": {
      "image/png": "[encoded data removed]",
      "text/plain": [
       "<Figure size 432x288 with 1 Axes>"
      ]
     },
     "metadata": {
      "needs_background": "light"
     },
     "output_type": "display_data"
    },
    {
     "data": {
      "text/plain": [
       "424"
      ]
     },
     "execution_count": 5,
     "metadata": {},
     "output_type": "execute_result"
    }
   ],
   "source": [
    "eta = 0.01 #η过小\n",
    "theta_history = []\n",
    "gradient_descent(0, eta)\n",
    "plot_theta_history()\n",
    "len(theta_history)"
   ]
  },
  {
   "cell_type": "code",
   "execution_count": 6,
   "metadata": {},
   "outputs": [
    {
     "data": {
      "image/png": "[encoded data removed]",
      "text/plain": [
       "<Figure size 432x288 with 1 Axes>"
      ]
     },
     "metadata": {
      "needs_background": "light"
     },
     "output_type": "display_data"
    },
    {
     "data": {
      "text/plain": [
       "22"
      ]
     },
     "execution_count": 6,
     "metadata": {},
     "output_type": "execute_result"
    }
   ],
   "source": [
    "eta = 0.8\n",
    "theta_history = []\n",
    "gradient_descent(0, eta)\n",
    "plot_theta_history()\n",
    "len(theta_history)"
   ]
  },
  {
   "cell_type": "code",
   "execution_count": 7,
   "metadata": {},
   "outputs": [
    {
     "data": {
      "image/png": "[encoded data removed]",
      "text/plain": [
       "<Figure size 432x288 with 1 Axes>"
      ]
     },
     "metadata": {
      "needs_background": "light"
     },
     "output_type": "display_data"
    },
    {
     "data": {
      "text/plain": [
       "11"
      ]
     },
     "execution_count": 7,
     "metadata": {},
     "output_type": "execute_result"
    }
   ],
   "source": [
    "eta = 1.02 # η过大\n",
    "theta_history = []\n",
    "gradient_descent(0, eta, n_iters=10)\n",
    "plot_theta_history()\n",
    "len(theta_history)"
   ]
  },
  {
   "cell_type": "markdown",
   "metadata": {},
   "source": [
    "### 2.1 线性回归中的梯度下降法\n",
    "#### 2.1.1 概述\n",
    "![](../image/gd1-5.jpeg)\n",
    "<center>1-5 线性回归中的梯度下降法</center>\n",
    "\n",
    "\n",
    "![](../image/gd1-6.jpeg)\n",
    "<center>1-6 线性回归中的梯度下降图</center>\n",
    "\n",
    "* 目标：使 $ \\frac{1}{m}\\sum_{i=1}^m({y}^{(i)} - \\hat{y}^{(i)})^2$  尽可能小\n",
    "* 公式：$ \\hat{y}^{(i)}=θ_0 + θ_1x_1^{(i)} + θ_2x_2^{(i)} + ... + θ_nx_n^{(i)} $\n",
    "* 目标：使 $ \\frac{1}{m}\\sum_{i=1}^m({y}^{(i)} - θ_0 - θ_1x_1^{(i)} - θ_2x_2^{(i)} - ... - θ_nx_n^{(i)})^2 $  尽可能小 \n",
    "\n",
    "\n",
    "$$▽J(θ)= \\frac{1}{m}\n",
    "\\left\\{\n",
    " \\begin{matrix}\n",
    "   ∂J/∂θ_0 \\\\\n",
    "   ∂J/∂θ_1 \\\\\n",
    "   ∂J/∂θ_2 \\\\\n",
    "   \\vdots \\\\\n",
    "   ∂J/∂θ_n\n",
    "  \\end{matrix} \n",
    "\\right\\}\n",
    "= \\frac{1}{m}\n",
    "\\left\\{\n",
    " \\begin{matrix}\n",
    "   \\sum_{i=1}^m2(y^{(i)} - {X_b}^{(i)}θ)·(-1) \\\\\n",
    "   \\sum_{i=1}^m2(y^{(i)} - {X_b}^{(i)}θ)·(-{X_1}^{(i)}) \\\\\n",
    "   \\sum_{i=1}^m2(y^{(i)} - {X_b}^{(i)}θ)·(-{X_2}^{(i)}) \\\\\n",
    "   \\vdots \\\\\n",
    "   \\sum_{i=1}^m2(y^{(i)} - {X_b}^{(i)}θ)·(-{X_n}^{(i)})\n",
    "  \\end{matrix} \n",
    "\\right\\}\n",
    "= \\frac{2}{m}·\n",
    "\\left\\{\n",
    " \\begin{matrix}\n",
    "   \\sum_{i=1}^m({X_b}^{(i)}θ - y^{(i)}) \\\\\n",
    "   \\sum_{i=1}^m({X_b}^{(i)}θ - y^{(i)})·{X_1}^{(i)} \\\\\n",
    "   \\sum_{i=1}^m({X_b}^{(i)}θ - y^{(i)})·{X_2}^{(i)} \\\\\n",
    "   \\vdots \\\\\n",
    "   \\sum_{i=1}^m({X_b}^{(i)}θ - y^{(i)})·{X_n}^{(i)}\n",
    "  \\end{matrix} \n",
    "\\right\\}\n",
    "$$\n",
    "\n",
    "* 式子简化：$ J(θ)=MSE(y,\\hat{y}) $ ,有时取 \\frac{1}{2m}\\sum_{i=1}^m({y}^{(i)} - \\hat{y}^{(i)})^2"
   ]
  },
  {
   "cell_type": "markdown",
   "metadata": {},
   "source": [
    "#### 2.1.2 案例"
   ]
  },
  {
   "cell_type": "code",
   "execution_count": 8,
   "metadata": {},
   "outputs": [
    {
     "name": "stdout",
     "output_type": "stream",
     "text": [
      "(100, 1)\n",
      "(100,)\n"
     ]
    },
    {
     "data": {
      "image/png": "[encoded data removed]",
      "text/plain": [
       "<Figure size 432x288 with 1 Axes>"
      ]
     },
     "metadata": {
      "needs_background": "light"
     },
     "output_type": "display_data"
    }
   ],
   "source": [
    "import numpy as np\n",
    "import matplotlib.pyplot as plt\n",
    "\n",
    "np.random.seed(666)\n",
    "x = 2 * np.random.random(size=100)\n",
    "y = x * 3. + 4. + np.random.normal(size=100)\n",
    "X = x.reshape(-1, 1)\n",
    "\n",
    "print(X.shape)\n",
    "print(y.shape)\n",
    "plt.scatter(x, y)\n",
    "plt.show()"
   ]
  },
  {
   "cell_type": "markdown",
   "metadata": {},
   "source": [
    "##### 使用梯度下降法训练\n",
    "* 目标：使 $ \\frac{1}{m}\\sum_{i=1}^m({y}^{(i)} - \\hat{y}^{(i)})^2$  尽可能小\n",
    "\n",
    "$$ J(θ)=MSE(y,\\hat{y}) \\quad  ▽J(θ)= \\frac{1}{m}\n",
    "\\left\\{\n",
    " \\begin{matrix}\n",
    "   ∂J/∂θ_0 \\\\\n",
    "   ∂J/∂θ_1 \\\\\n",
    "   ∂J/∂θ_2 \\\\\n",
    "   \\vdots \\\\\n",
    "   ∂J/∂θ_n\n",
    "  \\end{matrix} \n",
    "\\right\\}\n",
    "= \\frac{2}{m}·\n",
    "\\left\\{\n",
    " \\begin{matrix}\n",
    "   \\sum_{i=1}^m({X_b}^{(i)}θ - y^{(i)}) \\\\\n",
    "   \\sum_{i=1}^m({X_b}^{(i)}θ - y^{(i)})·{X_1}^{(i)} \\\\\n",
    "   \\sum_{i=1}^m({X_b}^{(i)}θ - y^{(i)})·{X_2}^{(i)} \\\\\n",
    "   \\vdots \\\\\n",
    "   \\sum_{i=1}^m({X_b}^{(i)}θ - y^{(i)})·{X_n}^{(i)}\n",
    "  \\end{matrix} \n",
    "\\right\\}\n",
    "$$"
   ]
  },
  {
   "cell_type": "code",
   "execution_count": 9,
   "metadata": {},
   "outputs": [
    {
     "data": {
      "text/plain": [
       "array([4.02145786, 3.00706277])"
      ]
     },
     "execution_count": 9,
     "metadata": {},
     "output_type": "execute_result"
    }
   ],
   "source": [
    "def J_lr(theta, X_b, y):\n",
    "    try:\n",
    "        return np.sum((y - X_b.dot(theta)) ** 2) / len(X_b)\n",
    "    except:\n",
    "        return float('inf')\n",
    "    \n",
    "def dJ_lr(theta, X_b, y):\n",
    "    res = np.empty(len(theta))\n",
    "    res[0] = np.sum(X_b.dot(theta) - y)\n",
    "    for i in range(1,len(theta)):\n",
    "        res[i] = (X_b.dot(theta) - y).dot(X_b[:,i])\n",
    "    return res * 2 / len(X_b)\n",
    "\n",
    "def gradient_descent_lr(X_b, y, initial_theta, eta,n_iters =1e4, epsilon = 1e-8):\n",
    "    theta = initial_theta\n",
    "    i_iter = 0\n",
    "    while i_iter < n_iters:\n",
    "        gradient = dJ_lr(theta, X_b, y)\n",
    "        last_theta = theta\n",
    "        \n",
    "        theta = theta - eta * gradient\n",
    "        \n",
    "        if(abs(J_lr(theta, X_b, y) - J_lr(last_theta, X_b, y)) < epsilon):\n",
    "            break\n",
    "        i_iter += 1\n",
    "    return theta\n",
    "\n",
    "X_b = np.hstack([np.ones((len(x), 1)), x.reshape(-1, 1)])\n",
    "\n",
    "initial_theta = np.zeros(X_b.shape[1])\n",
    "eta = 0.01\n",
    "\n",
    "theta = gradient_descent_lr(X_b,y,initial_theta,eta)\n",
    "\n",
    "theta"
   ]
  },
  {
   "cell_type": "markdown",
   "metadata": {},
   "source": [
    "### 2.2 下降法示例\n",
    "\n",
    "$$\n",
    "= \\frac{2}{m}·\n",
    "\\left\\{\n",
    " \\begin{matrix}\n",
    "   \\sum_{i=1}^m({X_b}^{(i)}θ - y^{(i)}) \\\\\n",
    "   \\sum_{i=1}^m({X_b}^{(i)}θ - y^{(i)})·{X_1}^{(i)} \\\\\n",
    "   \\sum_{i=1}^m({X_b}^{(i)}θ - y^{(i)})·{X_2}^{(i)} \\\\\n",
    "   \\vdots \\\\\n",
    "   \\sum_{i=1}^m({X_b}^{(i)}θ - y^{(i)})·{X_n}^{(i)}\n",
    "  \\end{matrix} \n",
    "\\right\\}\n",
    "= \\frac{2}{m}·({X_b}^{(1)}θ - y^{(1)}, {X_b}^{(2)}θ - y^{(2)}, {X_b}^{(3)}θ - y^{(3)}, \\ldots {X_b}^{(1)}θ - y^{(1)})\n",
    "·\\left\\{\n",
    " \\begin{matrix}\n",
    "    {X_0}^{(1)} & {X_1}^{(1)} & {X_2}^{(1)} \\ldots {X_n}^{(1)} \\\\\n",
    "    {X_0}^{(2)} & {X_1}^{(2)} & {X_2}^{(2)} \\ldots {X_n}^{(2)} \\\\\n",
    "    {X_0}^{(3)} & {X_1}^{(3)} & {X_2}^{(3)} \\ldots {X_n}^{(3)} \\\\\n",
    "   \\vdots & \\vdots & \\vdots \\ldots \\vdots \\\\\n",
    "     {X_0}^{(m)} & {X_1}^{(m)} & {X_2}^{(m)} \\ldots {X_n}^{(m)}\n",
    "  \\end{matrix} \n",
    "\\right\\}\n",
    "=\\frac{2}{m}·(X_bθ - y)^T.X_b\n",
    "=\\frac{2}{m}.{X_b}^T·(X_bθ - y)\n",
    "$$\n",
    "#### 2.2.1 使用原始方案"
   ]
  },
  {
   "cell_type": "code",
   "execution_count": 10,
   "metadata": {},
   "outputs": [],
   "source": [
    "import numpy as np\n",
    "from sklearn import datasets\n",
    "\n",
    "boston = datasets.load_boston()\n",
    "X = boston.data\n",
    "y = boston.target\n",
    "\n",
    "X = X[y < 50.0]\n",
    "y = y[y < 50.0]"
   ]
  },
  {
   "cell_type": "code",
   "execution_count": 11,
   "metadata": {},
   "outputs": [],
   "source": [
    "%run linear_regression.py\n",
    "%run model_selection.py"
   ]
  },
  {
   "cell_type": "code",
   "execution_count": 12,
   "metadata": {},
   "outputs": [],
   "source": [
    "X_train, X_test, y_train, y_test = train_test_split(X, y, seed = 666)"
   ]
  },
  {
   "cell_type": "code",
   "execution_count": 13,
   "metadata": {},
   "outputs": [
    {
     "name": "stdout",
     "output_type": "stream",
     "text": [
      "CPU times: user 242 µs, sys: 54 µs, total: 296 µs\n",
      "Wall time: 231 µs\n"
     ]
    },
    {
     "data": {
      "text/plain": [
       "0.8129794056212925"
      ]
     },
     "execution_count": 13,
     "metadata": {},
     "output_type": "execute_result"
    }
   ],
   "source": [
    "from linear_regression import LinearRegression\n",
    "\n",
    "\n",
    "lin_reg1 = LinearRegression()\n",
    "%time lin_reg1.fit_normal(X_train, y_train)\n",
    "lin_reg1.score(X_test, y_test)"
   ]
  },
  {
   "cell_type": "markdown",
   "metadata": {},
   "source": [
    "#### 2.2.2 使用梯度下降法"
   ]
  },
  {
   "cell_type": "code",
   "execution_count": 14,
   "metadata": {},
   "outputs": [
    {
     "name": "stdout",
     "output_type": "stream",
     "text": [
      "CPU times: user 35 s, sys: 450 ms, total: 35.5 s\n",
      "Wall time: 38.1 s\n"
     ]
    },
    {
     "data": {
      "text/plain": [
       "LinearRegression()"
      ]
     },
     "execution_count": 14,
     "metadata": {},
     "output_type": "execute_result"
    }
   ],
   "source": [
    "lin_reg2 = LinearRegression()\n",
    "%time lin_reg2.fit_gd(X_train, y_train, eta = 0.000001, n_iters=1e6)"
   ]
  },
  {
   "cell_type": "code",
   "execution_count": 15,
   "metadata": {},
   "outputs": [
    {
     "data": {
      "text/plain": [
       "array([-1.07889200e-01,  5.91494760e-02, -5.72920411e-02,  1.19334353e-01,\n",
       "        2.07223623e-01,  3.91254775e+00,  1.50564949e-03, -5.36511902e-01,\n",
       "        1.13424276e-01, -9.76209406e-03,  5.35544815e-02,  1.58440412e-02,\n",
       "       -3.78786162e-01])"
      ]
     },
     "execution_count": 15,
     "metadata": {},
     "output_type": "execute_result"
    }
   ],
   "source": [
    "lin_reg2.coef_"
   ]
  },
  {
   "cell_type": "code",
   "execution_count": 16,
   "metadata": {},
   "outputs": [
    {
     "data": {
      "text/plain": [
       "0.7542932581943915"
      ]
     },
     "execution_count": 16,
     "metadata": {},
     "output_type": "execute_result"
    }
   ],
   "source": [
    "lin_reg2.score(X_test, y_test)"
   ]
  },
  {
   "cell_type": "markdown",
   "metadata": {},
   "source": [
    "##### 梯度下降法与数据归一化\n",
    "* 使用提督下降法前，最好进行数据归一化\n",
    "![](../image/gd1-7.jpeg)"
   ]
  },
  {
   "cell_type": "code",
   "execution_count": 17,
   "metadata": {},
   "outputs": [],
   "source": [
    "from sklearn.preprocessing import StandardScaler\n",
    "standardScaler = StandardScaler()\n",
    "standardScaler.fit(X_train)\n",
    "\n",
    "X_train_standard = standardScaler.transform(X_train)"
   ]
  },
  {
   "cell_type": "code",
   "execution_count": 18,
   "metadata": {},
   "outputs": [
    {
     "name": "stdout",
     "output_type": "stream",
     "text": [
      "CPU times: user 156 ms, sys: 3.34 ms, total: 160 ms\n",
      "Wall time: 181 ms\n"
     ]
    },
    {
     "data": {
      "text/plain": [
       "LinearRegression()"
      ]
     },
     "execution_count": 18,
     "metadata": {},
     "output_type": "execute_result"
    }
   ],
   "source": [
    "lin_reg3 = LinearRegression()\n",
    "%time lin_reg3.fit_gd(X_train_standard, y_train)"
   ]
  },
  {
   "cell_type": "code",
   "execution_count": 19,
   "metadata": {},
   "outputs": [],
   "source": [
    "X_test_standard = standardScaler.transform(X_test)"
   ]
  },
  {
   "cell_type": "code",
   "execution_count": 20,
   "metadata": {},
   "outputs": [
    {
     "data": {
      "text/plain": [
       "0.8129873310487505"
      ]
     },
     "execution_count": 20,
     "metadata": {},
     "output_type": "execute_result"
    }
   ],
   "source": [
    "lin_reg3.score(X_test_standard, y_test)"
   ]
  },
  {
   "cell_type": "markdown",
   "metadata": {},
   "source": [
    "##### 梯度下降法的优势"
   ]
  },
  {
   "cell_type": "code",
   "execution_count": 21,
   "metadata": {},
   "outputs": [],
   "source": [
    "m = 1000\n",
    "n = 5000\n",
    "\n",
    "big_X = np.random.normal(size = (m, n))\n",
    "true_theta = np.random.uniform(0.0, 1000.0, size = n+1)\n",
    "big_y = big_X.dot(true_theta[1:]) + true_theta[0] + np.random.normal(0., 10., size=m)"
   ]
  },
  {
   "cell_type": "code",
   "execution_count": 22,
   "metadata": {},
   "outputs": [
    {
     "name": "stdout",
     "output_type": "stream",
     "text": [
      "CPU times: user 13.1 s, sys: 516 ms, total: 13.6 s\n",
      "Wall time: 8.92 s\n"
     ]
    },
    {
     "data": {
      "text/plain": [
       "LinearRegression()"
      ]
     },
     "execution_count": 22,
     "metadata": {},
     "output_type": "execute_result"
    }
   ],
   "source": [
    "big_reg1 = LinearRegression()\n",
    "\n",
    "%time big_reg1.fit_normal(big_X, big_y)"
   ]
  },
  {
   "cell_type": "code",
   "execution_count": 23,
   "metadata": {},
   "outputs": [
    {
     "name": "stdout",
     "output_type": "stream",
     "text": [
      "CPU times: user 5.15 s, sys: 118 ms, total: 5.27 s\n",
      "Wall time: 4.13 s\n"
     ]
    },
    {
     "data": {
      "text/plain": [
       "LinearRegression()"
      ]
     },
     "execution_count": 23,
     "metadata": {},
     "output_type": "execute_result"
    }
   ],
   "source": [
    "big_reg2 = LinearRegression()\n",
    "\n",
    "%time big_reg2.fit_gd(big_X, big_y)"
   ]
  },
  {
   "cell_type": "markdown",
   "metadata": {},
   "source": [
    "## 3.批量梯度下降法Batch Gradient Descent\n",
    "\n",
    "### 3.1 概念\n",
    "$$\n",
    "▽J(θ)= \\frac{2}{m}·\n",
    "\\left\\{\n",
    " \\begin{matrix}\n",
    "   \\sum_{i=1}^m({X_b}^{(i)}θ - y^{(i)}) \\\\\n",
    "   \\sum_{i=1}^m({X_b}^{(i)}θ - y^{(i)})·{X_1}^{(i)} \\\\\n",
    "   \\sum_{i=1}^m({X_b}^{(i)}θ - y^{(i)})·{X_2}^{(i)} \\\\\n",
    "   \\vdots \\\\\n",
    "   \\sum_{i=1}^m({X_b}^{(i)}θ - y^{(i)})·{X_n}^{(i)}\n",
    "  \\end{matrix} \n",
    "\\right\\}\n",
    "=\\frac{2}{m}.{X_b}^T·(X_bθ - y)\n",
    "$$\n",
    "\n",
    "### 随机梯度下降法Stochastic Gradient Descent\n",
    "\n",
    "$$\n",
    "\\frac{2}{m}·\n",
    "\\left\\{\n",
    " \\begin{matrix}\n",
    "   \\sum_{i=1}^m({X_b}^{(i)}θ - y^{(i)}) \\\\\n",
    "   \\sum_{i=1}^m({X_b}^{(i)}θ - y^{(i)})·{X_1}^{(i)} \\\\\n",
    "   \\sum_{i=1}^m({X_b}^{(i)}θ - y^{(i)})·{X_2}^{(i)} \\\\\n",
    "   \\vdots \\\\\n",
    "   \\sum_{i=1}^m({X_b}^{(i)}θ - y^{(i)})·{X_n}^{(i)}\n",
    "  \\end{matrix} \n",
    "\\right\\}  \\quad \n",
    "2·\n",
    "\\left\\{\n",
    " \\begin{matrix}\n",
    "   ({X_b}^{(i)}θ - y^{(i)}) \\\\\n",
    "   ({X_b}^{(i)}θ - y^{(i)})·{X_1}^{(i)} \\\\\n",
    "   ({X_b}^{(i)}θ - y^{(i)})·{X_2}^{(i)} \\\\\n",
    "   \\vdots \\\\\n",
    "   ({X_b}^{(i)}θ - y^{(i)})·{X_n}^{(i)}\n",
    "  \\end{matrix} \n",
    "\\right\\}\n",
    "=2·（{X_b}^{(i)}）^T·(X_b^{(i)}θ - y^{(i)})\n",
    "$$ \n",
    "\n",
    "![](../image/gd1-8.jpeg)\n",
    "\n",
    "模拟退火的思想\n",
    "\n",
    "### 3.2 示例"
   ]
  },
  {
   "cell_type": "code",
   "execution_count": 24,
   "metadata": {},
   "outputs": [],
   "source": [
    "import numpy as np\n",
    "import matplotlib.pyplot as plt\n",
    "\n",
    "m = 100000\n",
    "\n",
    "x = np.random.normal(size=m)\n",
    "X = x.reshape(-1, 1)\n",
    "y = 4. * x + 3. + np.random.normal(0, 3, size = m)\n",
    "\n",
    "def J(theta, X_b, y):\n",
    "    try:\n",
    "        return np.sum((y - X_b.dot(theta)) ** 2) / len(X_b)\n",
    "    except:\n",
    "        return float('inf')\n",
    "    \n",
    "def dJ(theta, X_b, y):\n",
    "    return X_b.T.dot(X_b.dot(theta) - y) * 2. / len(y)\n",
    "\n",
    "def gradient_descent(X_b, y, initial_theta, eta,n_iters =1e4, epsilon = 1e-8):\n",
    "    theta = initial_theta\n",
    "    cur_iter = 0\n",
    "    while cur_iter < n_iters:\n",
    "        gradient = dJ(theta, X_b, y)\n",
    "        last_theta = theta\n",
    "        \n",
    "        theta = theta - eta * gradient\n",
    "        \n",
    "        if(abs(J(theta, X_b, y) - J(last_theta, X_b, y)) < epsilon):\n",
    "            break\n",
    "        cur_iter += 1\n",
    "    return theta"
   ]
  },
  {
   "cell_type": "code",
   "execution_count": 25,
   "metadata": {},
   "outputs": [
    {
     "name": "stdout",
     "output_type": "stream",
     "text": [
      "CPU times: user 772 ms, sys: 51.5 ms, total: 824 ms\n",
      "Wall time: 634 ms\n"
     ]
    }
   ],
   "source": [
    "%%time\n",
    "X_b = np.hstack([np.ones((len(X),1)), X])\n",
    "initial_theta = np.zeros(X_b.shape[1])\n",
    "eta = 0.01\n",
    "theta = gradient_descent(X_b, y, initial_theta, eta)"
   ]
  },
  {
   "cell_type": "code",
   "execution_count": 26,
   "metadata": {},
   "outputs": [
    {
     "data": {
      "text/plain": [
       "array([2.99265616, 4.01188401])"
      ]
     },
     "execution_count": 26,
     "metadata": {},
     "output_type": "execute_result"
    }
   ],
   "source": [
    "theta"
   ]
  },
  {
   "cell_type": "code",
   "execution_count": 27,
   "metadata": {},
   "outputs": [],
   "source": [
    "def dJ_sgd(theta, X_b_i, y_i):\n",
    "    return X_b_i.T.dot(X_b_i.dot(theta) - y_i) * 2.\n",
    "\n",
    "def sgd(X_b, y, initial_theta, n_iters =1e4, epsilon = 1e-8):\n",
    "    t0 = 5\n",
    "    t1 = 50\n",
    "    def learning_rate(t):\n",
    "        return t0 / (t + t1)\n",
    "    \n",
    "    theta = initial_theta\n",
    "    \n",
    "    for cur_iter in range(n_iters):\n",
    "        rand_i = np.random.randint(len(X_b))\n",
    "        gradient = dJ_sgd(theta, X_b[rand_i], y[rand_i])\n",
    "        theta = theta - learning_rate(cur_iter) * gradient\n",
    "        \n",
    "    return theta"
   ]
  },
  {
   "cell_type": "code",
   "execution_count": 28,
   "metadata": {},
   "outputs": [
    {
     "name": "stdout",
     "output_type": "stream",
     "text": [
      "CPU times: user 550 ms, sys: 11 ms, total: 561 ms\n",
      "Wall time: 684 ms\n"
     ]
    }
   ],
   "source": [
    "%%time\n",
    "X_b = np.hstack([np.ones((len(X),1)), X])\n",
    "initial_theta = np.zeros(X_b.shape[1])\n",
    "theta = sgd(X_b, y, initial_theta, n_iters=len(X_b) // 3)"
   ]
  },
  {
   "cell_type": "code",
   "execution_count": 29,
   "metadata": {},
   "outputs": [
    {
     "data": {
      "text/plain": [
       "array([2.9633152 , 3.98778654])"
      ]
     },
     "execution_count": 29,
     "metadata": {},
     "output_type": "execute_result"
    }
   ],
   "source": [
    "theta"
   ]
  },
  {
   "cell_type": "code",
   "execution_count": 30,
   "metadata": {},
   "outputs": [],
   "source": [
    "%run linear_regression.py\n",
    "%run model_selection.py"
   ]
  },
  {
   "cell_type": "code",
   "execution_count": 31,
   "metadata": {},
   "outputs": [],
   "source": [
    "import numpy as np\n",
    "import matplotlib.pyplot as plt"
   ]
  },
  {
   "cell_type": "code",
   "execution_count": 32,
   "metadata": {},
   "outputs": [],
   "source": [
    "m = 100000\n",
    "\n",
    "x = np.random.normal(size=m)\n",
    "X = x.reshape(-1, 1)\n",
    "y = 4. * x + 3. + np.random.normal(0, 3, size = m)"
   ]
  },
  {
   "cell_type": "code",
   "execution_count": 33,
   "metadata": {},
   "outputs": [
    {
     "data": {
      "text/plain": [
       "LinearRegression()"
      ]
     },
     "execution_count": 33,
     "metadata": {},
     "output_type": "execute_result"
    }
   ],
   "source": [
    "from linear_regression import LinearRegression\n",
    "lin_reg = LinearRegression()\n",
    "\n",
    "lin_reg.fit_sgd(X, y, n_iters=2)"
   ]
  },
  {
   "cell_type": "code",
   "execution_count": 34,
   "metadata": {},
   "outputs": [
    {
     "data": {
      "text/plain": [
       "array([3.99781731])"
      ]
     },
     "execution_count": 34,
     "metadata": {},
     "output_type": "execute_result"
    }
   ],
   "source": [
    "lin_reg.coef_"
   ]
  },
  {
   "cell_type": "code",
   "execution_count": 35,
   "metadata": {},
   "outputs": [
    {
     "data": {
      "text/plain": [
       "2.969298731663039"
      ]
     },
     "execution_count": 35,
     "metadata": {},
     "output_type": "execute_result"
    }
   ],
   "source": [
    "lin_reg.intercept_"
   ]
  },
  {
   "cell_type": "markdown",
   "metadata": {},
   "source": [
    "### 3.3真实使用我们自己的SGD"
   ]
  },
  {
   "cell_type": "code",
   "execution_count": 36,
   "metadata": {},
   "outputs": [],
   "source": [
    "from sklearn import datasets\n",
    "\n",
    "boston = datasets.load_boston()\n",
    "X = boston.data\n",
    "y = boston.target\n",
    "\n",
    "X = X[y < 50.0]\n",
    "y = y[y < 50.0]"
   ]
  },
  {
   "cell_type": "code",
   "execution_count": 37,
   "metadata": {},
   "outputs": [
    {
     "name": "stdout",
     "output_type": "stream",
     "text": [
      "CPU times: user 5.17 ms, sys: 607 µs, total: 5.78 ms\n",
      "Wall time: 6.62 ms\n"
     ]
    },
    {
     "data": {
      "text/plain": [
       "0.7857275413602651"
      ]
     },
     "execution_count": 37,
     "metadata": {},
     "output_type": "execute_result"
    }
   ],
   "source": [
    "X_train, X_test, y_train, y_test = train_test_split(X, y, seed = 666)\n",
    "\n",
    "from sklearn.preprocessing import StandardScaler\n",
    "standardScaler = StandardScaler()\n",
    "standardScaler.fit(X_train)\n",
    "\n",
    "X_train_standard = standardScaler.transform(X_train)\n",
    "X_test_standard = standardScaler.transform(X_test)\n",
    "\n",
    "lin_reg2 = LinearRegression()\n",
    "\n",
    "%time lin_reg2.fit_sgd(X_train_standard, y_train, n_iters = 2)\n",
    "lin_reg2.score(X_test_standard, y_test)"
   ]
  },
  {
   "cell_type": "code",
   "execution_count": 38,
   "metadata": {},
   "outputs": [
    {
     "name": "stdout",
     "output_type": "stream",
     "text": [
      "CPU times: user 209 ms, sys: 9.24 ms, total: 218 ms\n",
      "Wall time: 241 ms\n"
     ]
    },
    {
     "data": {
      "text/plain": [
       "0.8118448300944716"
      ]
     },
     "execution_count": 38,
     "metadata": {},
     "output_type": "execute_result"
    }
   ],
   "source": [
    "%time lin_reg2.fit_sgd(X_train_standard, y_train, n_iters = 100)\n",
    "lin_reg2.score(X_test_standard, y_test)"
   ]
  },
  {
   "cell_type": "markdown",
   "metadata": {},
   "source": [
    "### 3.4 scikit-learn中的SGD"
   ]
  },
  {
   "cell_type": "code",
   "execution_count": 39,
   "metadata": {},
   "outputs": [
    {
     "name": "stdout",
     "output_type": "stream",
     "text": [
      "CPU times: user 1.87 ms, sys: 125 µs, total: 1.99 ms\n",
      "Wall time: 2.07 ms\n"
     ]
    },
    {
     "data": {
      "text/plain": [
       "0.8129396246300761"
      ]
     },
     "execution_count": 39,
     "metadata": {},
     "output_type": "execute_result"
    }
   ],
   "source": [
    "from sklearn.linear_model import SGDRegressor\n",
    "\n",
    "sgd_reg = SGDRegressor()\n",
    "\n",
    "%time sgd_reg.fit(X_train_standard, y_train)\n",
    "\n",
    "sgd_reg.score(X_test_standard, y_test)"
   ]
  },
  {
   "cell_type": "code",
   "execution_count": 40,
   "metadata": {},
   "outputs": [
    {
     "name": "stdout",
     "output_type": "stream",
     "text": [
      "CPU times: user 1.93 ms, sys: 973 µs, total: 2.9 ms\n",
      "Wall time: 3.17 ms\n"
     ]
    },
    {
     "data": {
      "text/plain": [
       "0.8117466504621668"
      ]
     },
     "execution_count": 40,
     "metadata": {},
     "output_type": "execute_result"
    }
   ],
   "source": [
    "sgd_reg = SGDRegressor(max_iter=100)\n",
    "\n",
    "%time sgd_reg.fit(X_train_standard, y_train)\n",
    "\n",
    "sgd_reg.score(X_test_standard, y_test)"
   ]
  },
  {
   "cell_type": "markdown",
   "metadata": {},
   "source": [
    "## 4关于梯度的调试\n",
    "\n",
    "![](../image/gd1-9.jpeg)"
   ]
  },
  {
   "cell_type": "code",
   "execution_count": 41,
   "metadata": {},
   "outputs": [],
   "source": [
    "import numpy as np\n",
    "import matplotlib.pyplot as plt"
   ]
  },
  {
   "cell_type": "code",
   "execution_count": 42,
   "metadata": {},
   "outputs": [],
   "source": [
    "np.random.seed(666)\n",
    "X = np.random.random(size = (1000, 10))"
   ]
  },
  {
   "cell_type": "code",
   "execution_count": 43,
   "metadata": {},
   "outputs": [],
   "source": [
    "true_theta = np.arange(1, 12, dtype = float)"
   ]
  },
  {
   "cell_type": "code",
   "execution_count": 44,
   "metadata": {},
   "outputs": [],
   "source": [
    "X_b = np.hstack([np.ones((len(X), 1)), X])\n",
    "y = X_b.dot(true_theta) + np.random.normal(size=1000)"
   ]
  },
  {
   "cell_type": "code",
   "execution_count": 45,
   "metadata": {},
   "outputs": [
    {
     "data": {
      "text/plain": [
       "(1000, 10)"
      ]
     },
     "execution_count": 45,
     "metadata": {},
     "output_type": "execute_result"
    }
   ],
   "source": [
    "X.shape"
   ]
  },
  {
   "cell_type": "code",
   "execution_count": 46,
   "metadata": {},
   "outputs": [
    {
     "data": {
      "text/plain": [
       "(1000,)"
      ]
     },
     "execution_count": 46,
     "metadata": {},
     "output_type": "execute_result"
    }
   ],
   "source": [
    "y.shape"
   ]
  },
  {
   "cell_type": "code",
   "execution_count": 47,
   "metadata": {},
   "outputs": [
    {
     "data": {
      "text/plain": [
       "array([ 1.,  2.,  3.,  4.,  5.,  6.,  7.,  8.,  9., 10., 11.])"
      ]
     },
     "execution_count": 47,
     "metadata": {},
     "output_type": "execute_result"
    }
   ],
   "source": [
    "true_theta"
   ]
  },
  {
   "cell_type": "code",
   "execution_count": 48,
   "metadata": {},
   "outputs": [],
   "source": [
    "def J(theta, X_b, y):\n",
    "    try:\n",
    "        return np.sum((y - X_b.dot(theta)) ** 2) / len(X_b)\n",
    "    except:\n",
    "        return float('inf')\n",
    "    \n",
    "    \n",
    "def dJ_math(theta, X_b, y):\n",
    "    return X_b.T.dot(X_b.dot(theta) - y) * 2. / len(y)\n",
    "\n",
    "def dJ_debug(theta, X_b, y, epsilon=0.01):\n",
    "    res = np.empty(len(theta))\n",
    "    for i in range(len(theta)):\n",
    "        theta_1 = theta.copy()\n",
    "        theta_1[i] += epsilon\n",
    "        theta_2 = theta.copy()\n",
    "        theta_2[i] -= epsilon\n",
    "        res[i] = (J(theta_1, X_b, y), J(theta_2, X_b, y)) / (2 * epsilon)\n",
    "    return res\n",
    "\n",
    "\n",
    "def dJ(theta, X_b, y):\n",
    "    return X_b.T.dot(X_b.dot(theta) - y) * 2. / len(y)\n",
    "\n",
    "def gradient_descent(dJ, X_b, y, initial_theta, eta, n_iters=1e4, epsilon=1e-8):\n",
    "    theta = initial_theta\n",
    "    cur_iter = 0\n",
    "\n",
    "    while cur_iter < n_iters:\n",
    "        gradient = dJ(theta, X_b, y)\n",
    "        last_theta = theta\n",
    "        theta = theta - eta * gradient\n",
    "        if (abs(J(theta, X_b, y) - J(last_theta, X_b, y)) < epsilon):\n",
    "            break\n",
    "            \n",
    "        cur_iter += 1\n",
    "    return theta"
   ]
  },
  {
   "cell_type": "code",
   "execution_count": 49,
   "metadata": {},
   "outputs": [
    {
     "ename": "TypeError",
     "evalue": "unsupported operand type(s) for /: 'tuple' and 'float'",
     "output_type": "error",
     "traceback": [
      "\u001b[0;31m---------------------------------------------------------------------------\u001b[0m",
      "\u001b[0;31mTypeError\u001b[0m                                 Traceback (most recent call last)",
      "\u001b[0;32m<timed exec>\u001b[0m in \u001b[0;36m<module>\u001b[0;34m\u001b[0m\n",
      "\u001b[0;32m<ipython-input-48-fac3867e9585>\u001b[0m in \u001b[0;36mgradient_descent\u001b[0;34m(dJ, X_b, y, initial_theta, eta, n_iters, epsilon)\u001b[0m\n\u001b[1;32m     28\u001b[0m \u001b[0;34m\u001b[0m\u001b[0m\n\u001b[1;32m     29\u001b[0m     \u001b[0;32mwhile\u001b[0m \u001b[0mcur_iter\u001b[0m \u001b[0;34m<\u001b[0m \u001b[0mn_iters\u001b[0m\u001b[0;34m:\u001b[0m\u001b[0;34m\u001b[0m\u001b[0;34m\u001b[0m\u001b[0m\n\u001b[0;32m---> 30\u001b[0;31m         \u001b[0mgradient\u001b[0m \u001b[0;34m=\u001b[0m \u001b[0mdJ\u001b[0m\u001b[0;34m(\u001b[0m\u001b[0mtheta\u001b[0m\u001b[0;34m,\u001b[0m \u001b[0mX_b\u001b[0m\u001b[0;34m,\u001b[0m \u001b[0my\u001b[0m\u001b[0;34m)\u001b[0m\u001b[0;34m\u001b[0m\u001b[0;34m\u001b[0m\u001b[0m\n\u001b[0m\u001b[1;32m     31\u001b[0m         \u001b[0mlast_theta\u001b[0m \u001b[0;34m=\u001b[0m \u001b[0mtheta\u001b[0m\u001b[0;34m\u001b[0m\u001b[0;34m\u001b[0m\u001b[0m\n\u001b[1;32m     32\u001b[0m         \u001b[0mtheta\u001b[0m \u001b[0;34m=\u001b[0m \u001b[0mtheta\u001b[0m \u001b[0;34m-\u001b[0m \u001b[0meta\u001b[0m \u001b[0;34m*\u001b[0m \u001b[0mgradient\u001b[0m\u001b[0;34m\u001b[0m\u001b[0;34m\u001b[0m\u001b[0m\n",
      "\u001b[0;32m<ipython-input-48-fac3867e9585>\u001b[0m in \u001b[0;36mdJ_debug\u001b[0;34m(theta, X_b, y, epsilon)\u001b[0m\n\u001b[1;32m     16\u001b[0m         \u001b[0mtheta_2\u001b[0m \u001b[0;34m=\u001b[0m \u001b[0mtheta\u001b[0m\u001b[0;34m.\u001b[0m\u001b[0mcopy\u001b[0m\u001b[0;34m(\u001b[0m\u001b[0;34m)\u001b[0m\u001b[0;34m\u001b[0m\u001b[0;34m\u001b[0m\u001b[0m\n\u001b[1;32m     17\u001b[0m         \u001b[0mtheta_2\u001b[0m\u001b[0;34m[\u001b[0m\u001b[0mi\u001b[0m\u001b[0;34m]\u001b[0m \u001b[0;34m-=\u001b[0m \u001b[0mepsilon\u001b[0m\u001b[0;34m\u001b[0m\u001b[0;34m\u001b[0m\u001b[0m\n\u001b[0;32m---> 18\u001b[0;31m         \u001b[0mres\u001b[0m\u001b[0;34m[\u001b[0m\u001b[0mi\u001b[0m\u001b[0;34m]\u001b[0m \u001b[0;34m=\u001b[0m \u001b[0;34m(\u001b[0m\u001b[0mJ\u001b[0m\u001b[0;34m(\u001b[0m\u001b[0mtheta_1\u001b[0m\u001b[0;34m,\u001b[0m \u001b[0mX_b\u001b[0m\u001b[0;34m,\u001b[0m \u001b[0my\u001b[0m\u001b[0;34m)\u001b[0m\u001b[0;34m,\u001b[0m \u001b[0mJ\u001b[0m\u001b[0;34m(\u001b[0m\u001b[0mtheta_2\u001b[0m\u001b[0;34m,\u001b[0m \u001b[0mX_b\u001b[0m\u001b[0;34m,\u001b[0m \u001b[0my\u001b[0m\u001b[0;34m)\u001b[0m\u001b[0;34m)\u001b[0m \u001b[0;34m/\u001b[0m \u001b[0;34m(\u001b[0m\u001b[0;36m2\u001b[0m \u001b[0;34m*\u001b[0m \u001b[0mepsilon\u001b[0m\u001b[0;34m)\u001b[0m\u001b[0;34m\u001b[0m\u001b[0;34m\u001b[0m\u001b[0m\n\u001b[0m\u001b[1;32m     19\u001b[0m     \u001b[0;32mreturn\u001b[0m \u001b[0mres\u001b[0m\u001b[0;34m\u001b[0m\u001b[0;34m\u001b[0m\u001b[0m\n\u001b[1;32m     20\u001b[0m \u001b[0;34m\u001b[0m\u001b[0m\n",
      "\u001b[0;31mTypeError\u001b[0m: unsupported operand type(s) for /: 'tuple' and 'float'"
     ]
    },
    {
     "data": {
      "text/plain": [
       "array([2.9633152 , 3.98778654])"
      ]
     },
     "execution_count": 49,
     "metadata": {},
     "output_type": "execute_result"
    }
   ],
   "source": [
    "X_b = np.hstack([np.ones((len(X), 1)), X])\n",
    "initial_theta = np.zeros(X_b.shape[1])\n",
    "eta = 0.01\n",
    "\n",
    "%time theta = gradient_descent(dJ_debug, X_b, y, initial_theta, eta)\n",
    "theta"
   ]
  },
  {
   "cell_type": "markdown",
   "metadata": {},
   "source": [
    "### 5.梯度下降法讨论\n",
    "* 批量梯度下降法 Batch Gradient Descent\n",
    "* 随机梯度下降法 Stochastic Gradient Descent\n",
    "* 小批量梯度下降法Mini-Batch Gradient Descent\n",
    "\n",
    "##### 5.1 随机\n",
    "* 跳出局部最优解\n",
    "* 更快的运行速度\n",
    "* 机器学习领域很多算法都要使用随机的特点：随机搜索；随机森林"
   ]
  },
  {
   "cell_type": "code",
   "execution_count": null,
   "metadata": {},
   "outputs": [],
   "source": []
  }
 ],
 "metadata": {
  "kernelspec": {
   "display_name": "Python 3",
   "language": "python",
   "name": "python3"
  },
  "language_info": {
   "codemirror_mode": {
    "name": "ipython",
    "version": 3
   },
   "file_extension": ".py",
   "mimetype": "text/x-python",
   "name": "python",
   "nbconvert_exporter": "python",
   "pygments_lexer": "ipython3",
   "version": "3.7.6"
  }
 },
 "nbformat": 4,
 "nbformat_minor": 4
}
