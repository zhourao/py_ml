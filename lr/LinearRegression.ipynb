{
 "cells": [
  {
   "cell_type": "markdown",
   "metadata": {},
   "source": [
    "# 线性回归\n",
    "* **解决回归问题**\n",
    "* 思想简单，实现容易\n",
    "* 许多强大的非线性模型的基础\n",
    "* 结果具有很好的解释性\n",
    "* **蕴含机器学习的很多重要思想**\n",
    "\n",
    "## 1.概述\n",
    "### 1.1 案例及假设\n",
    "房屋面积与价格等一系列特征成线性关系\n",
    "\n",
    "### 1.2 求解\n",
    "寻找一条直线最大程度的“拟合”样本特征和样本输出标记之间的关系\n",
    "\n",
    "### 1.3 概念\n",
    "\n",
    "回归：预测连续的值\n",
    "\n",
    "\n",
    "## 2 简单线性回归\n",
    "\n",
    "### 2.1 概念\n",
    "* 特征样本只有一个，称为“简单线性回归”\n",
    "* 多个特征称为“多元线性回归”\n",
    "\n",
    "\n",
    "### 2.2 过程\n",
    "* 假设：最佳拟合方程\n",
    "$$ y = ax +b $$\n",
    "* 预测：对于每一个样本点X<sup>(i)</sup>，根据我们的直线方程预测值为：\n",
    "$$ \\hat{y}^{(i)} = ax^{(i)} +b $$\n",
    "* 真值为： ${y}^{(i)}$\n",
    "* 预期：我们希望 ${y}^{(i)}$ 和 $\\hat{y}^{(i)}$ 尽量的小，表达 ${y}^{(i)}$ 和 $\\hat{y}^{(i)}$ 的差距：\n",
    "$$({y}^{(i)} - \\hat{y}^{(i)})^2$$\n",
    "* 所有样本：\n",
    "$$\\sum_{i=1}^n({y}^{(i)} - \\hat{y}^{(i)})^2$$\n",
    "* 目标：使 $\\sum_{i=1}^n({y}^{(i)} - \\hat{y}^{(i)})^2$ 尽可能小\n",
    "$$ \\hat{y}^{(i)} = ax^{(i)} +b $$\n",
    "\n",
    "### 2.3 问题总结\n",
    "* 找到a和b，使得 $\\sum_{i=1}^n({y}^{(i)} - a{x}^{(i)} -b )^2$ （损失函数-lossfunction、效用函数-utility function）尽可能小\n",
    "* 基本思路(最优化原理)\n",
    "  * 通过分析问题，确定问题的损失函数或者效用函数\n",
    "  * 通过最优化损失函数或者效用函数，获得机器学习的模型\n",
    "  * 近乎所有参数学习算法都是这样的套路\n",
    "    * 线性回归、SVM、多项式回归、神经网络、逻辑回归......\n",
    "* 典型的最小二乘法问题：最小化误差的平方\n",
    "$$a=\\frac{\\sum_{i=1}^m(x^{(i)} -\\overline{x})(y^{(i)} -\\overline{y})} {\\sum_{i=1}^m(x^{(i)} -\\overline{x})^2} \\qquad b=\\overline{y}-a\\overline{x}$$\n",
    "\n",
    "\n",
    "### 2.4 最小二乘法\n",
    "#### 目标\n",
    "* 找到a和b，使得 $\\sum_{i=1}^n({y}^{(i)} - a{x}^{(i)} -b )^2$ （ J(a,b) 表示损失函数）尽可能小\n",
    "* 求导 $\\frac{\\partial J(a,b)}{\\partial a} = 0$ 和 $\\frac{\\partial J(a,b)}{\\partial b} = 0$\n",
    "\n",
    "#### b的求导\n",
    "$$\\frac{\\partial J(a,b)}{\\partial b}=\\sum_{i=1}^m2(y^{(i)} -ax^{(i)}-b)(-1)=0$$\n",
    "$$\\sum_{i=1}^m(y^{(i)} -ax^{(i)}-b)=0$$\n",
    "$$\\sum_{i=1}^my^{(i)} -a\\sum_{i=1}^mx^{(i)}-mb=0$$\n",
    "$$b=\\overline{y}-a\\overline{x}$$\n",
    "* 结果\n",
    "$$b=\\overline{y}-a\\overline{x}$$\n",
    "\n",
    "#### a的求导\n",
    "$$\\frac{\\partial J(a,b)}{\\partial a}=\\sum_{i=1}^m2(y^{(i)} -ax^{(i)}-b)(-x^{(i)})=0$$\n",
    "$$\\sum_{i=1}^m(y^{(i)} -ax^{(i)}-b)x^{(i)}=0$$\n",
    "* 将上述的b结果带入式子\n",
    "$$\\sum_{i=1}^m(y^{(i)} -ax^{(i)}-\\overline{y}+a\\overline{x})x^{(i)}=0$$\n",
    "\n",
    "* 整理式子\n",
    "$$\\sum_{i=1}^m(x^{(i)}y^{(i)} -a(x^{(i)})^2-\\overline{y}x^{(i)}+a\\overline{x}x^{(i)})=0$$\n",
    "$$\\sum_{i=1}^m(x^{(i)}y^{(i)}-\\overline{y}x^{(i)}) -\\sum_{i=1}^m(a(x^{(i)})^2-a\\overline{x}x^{(i)})=0$$\n",
    "$$\\sum_{i=1}^m(x^{(i)}y^{(i)}-\\overline{y}x^{(i)}) -\\sum_{i=1}^m((x^{(i)})^2-\\overline{x}x^{(i)})=0$$\n",
    "$$\\sum_{i=1}^m(x^{(i)}y^{(i)}-\\overline{y}x^{(i)}) -a\\sum_{i=1}^m((x^{(i)})^2-\\overline{x}x^{(i)})=0$$\n",
    "$$\\sum_{i=1}^m(x^{(i)}y^{(i)}-\\overline{y}x^{(i)})=a\\sum_{i=1}^m((x^{(i)})^2-\\overline{x}x^{(i)})$$\n",
    "* 阶段结果\n",
    "$$a=\\frac{\\sum_{i=1}^m(x^{(i)}y^{(i)}-\\overline{y}x^{(i)})}{\\sum_{i=1}^m((x^{(i)})^2-\\overline{x}x^{(i)})}$$\n",
    "\n",
    "* 式子变换\n",
    "$$\\sum_{i=1}^m\\overline{y}x^{(i)}=\\overline{y}\\sum_{i=1}^mx^{(i)}=m\\overline{y}\\overline{x}=\\overline{x}\\sum_{i=1}^my^{(i)}$$\n",
    "$$ a = \\frac{\\sum_{i=1}^m(x^{(i)}y^{(i)}-x^{(i)}\\overline{y}-\\overline{x}y^{(i)}-\\overline{y}x^{(i)})}{\\sum_{i=1}^m((x^{(i)})^2-\\overline{x}x^{(i)}-\\overline{x}x^{(i)}+\\overline{x}^2)} =  \\frac{\\sum_{i=1}^m(x^{(i)}-\\overline{x})(y^{(i)}-\\overline{y})}{\\sum_{i=1}^m(x^{(i)}-\\overline{x})^2}$$\n",
    "\n",
    "\n",
    "### 2.5 简易代码示例"
   ]
  },
  {
   "cell_type": "code",
   "execution_count": 1,
   "metadata": {},
   "outputs": [
    {
     "data": {
      "image/png": "[encoded data removed]",
      "text/plain": [
       "<Figure size 432x288 with 1 Axes>"
      ]
     },
     "metadata": {
      "needs_background": "light"
     },
     "output_type": "display_data"
    }
   ],
   "source": [
    "import numpy as np\n",
    "import matplotlib.pyplot as plt\n",
    "\n",
    "x = np.array([1.,2.,3.,4.,5.])\n",
    "y = np.array([1.,3.,2.,3.,5.])\n",
    "\n",
    "plt.scatter(x,y)\n",
    "plt.axis([0,6,0,6])\n",
    "plt.show()"
   ]
  },
  {
   "cell_type": "markdown",
   "metadata": {},
   "source": [
    "* a的公式\n",
    "$$ a =  \\frac{\\sum_{i=1}^m(x^{(i)}-\\overline{x})(y^{(i)}-\\overline{y})}{\\sum_{i=1}^m(x^{(i)}-\\overline{x})^2}$$\n",
    "* b的公式\n",
    "$$b=\\overline{y}-a\\overline{x}$$"
   ]
  },
  {
   "cell_type": "code",
   "execution_count": 2,
   "metadata": {},
   "outputs": [],
   "source": [
    "x_mean = np.mean(x)\n",
    "y_mean = np.mean(y)\n",
    "\n",
    "num = 0.0\n",
    "d = 0.0\n",
    "for x_i,y_i in zip(x,y):\n",
    "    num += (x_i - x_mean) * (y_i - y_mean)\n",
    "    d += (x_i - x_mean) ** 2\n",
    "    \n",
    "a = num / d\n",
    "b = y_mean - a * x_mean"
   ]
  },
  {
   "cell_type": "code",
   "execution_count": 3,
   "metadata": {},
   "outputs": [
    {
     "data": {
      "text/plain": [
       "0.8"
      ]
     },
     "execution_count": 3,
     "metadata": {},
     "output_type": "execute_result"
    }
   ],
   "source": [
    "a"
   ]
  },
  {
   "cell_type": "code",
   "execution_count": 4,
   "metadata": {},
   "outputs": [
    {
     "data": {
      "text/plain": [
       "0.39999999999999947"
      ]
     },
     "execution_count": 4,
     "metadata": {},
     "output_type": "execute_result"
    }
   ],
   "source": [
    "b"
   ]
  },
  {
   "cell_type": "code",
   "execution_count": 5,
   "metadata": {},
   "outputs": [
    {
     "data": {
      "image/png": "[encoded data removed]",
      "text/plain": [
       "<Figure size 432x288 with 1 Axes>"
      ]
     },
     "metadata": {
      "needs_background": "light"
     },
     "output_type": "display_data"
    }
   ],
   "source": [
    "y_hat = a * x + b\n",
    "\n",
    "plt.scatter(x, y)\n",
    "plt.plot(x, y_hat, color='r')\n",
    "plt.axis([0,6,0,6])\n",
    "plt.show()"
   ]
  },
  {
   "cell_type": "markdown",
   "metadata": {},
   "source": [
    "### 2.6 向量化\n",
    "* a的公式\n",
    "$$ a =  \\frac{\\sum_{i=1}^m(x^{(i)}-\\overline{x})(y^{(i)}-\\overline{y})}{\\sum_{i=1}^m(x^{(i)}-\\overline{x})^2}$$\n",
    "\n",
    "* 向量转换，分母和分子转换\n",
    "$$ \\sum_{i=1}^m(x^{(i)}-\\overline{x})(y^{(i)} -\\overline{y}) = \\sum_{i=1}^mw^{(i)}v^{(i)}$$\n",
    "\n",
    "\n",
    "$$ {\\sum_{i=1}^m(x^{(i)}-\\overline{x})^2} = \\sum_{i=1}^mw^{(i)}w^{(i)}$$"
   ]
  },
  {
   "cell_type": "code",
   "execution_count": 6,
   "metadata": {},
   "outputs": [],
   "source": [
    "%run simple_linear_regression.py"
   ]
  },
  {
   "cell_type": "code",
   "execution_count": 7,
   "metadata": {},
   "outputs": [],
   "source": [
    "from simple_linear_regression import SimpleLinearRegression1\n",
    "from simple_linear_regression import SimpleLinearRegression2\n",
    "m = 1000000\n",
    "big_x = np.random.random(size=m)\n",
    "big_y = big_x * 2.0 + 3.0 + np.random.normal(size=m)\n",
    "reg1 = SimpleLinearRegression1()\n",
    "reg2 = SimpleLinearRegression2()"
   ]
  },
  {
   "cell_type": "code",
   "execution_count": 8,
   "metadata": {},
   "outputs": [
    {
     "name": "stdout",
     "output_type": "stream",
     "text": [
      "1.11 s ± 96.4 ms per loop (mean ± std. dev. of 7 runs, 1 loop each)\n",
      "7.43 ms ± 116 µs per loop (mean ± std. dev. of 7 runs, 100 loops each)\n"
     ]
    }
   ],
   "source": [
    "%timeit reg1.fit(big_x,big_y)\n",
    "%timeit reg2.fit(big_x,big_y)"
   ]
  },
  {
   "cell_type": "markdown",
   "metadata": {},
   "source": [
    "### 2.7 衡量线性回归法的指标\n",
    "#### 评估概念\n",
    "* 训练数据->模型\n",
    "* 测试数据->模型\n",
    "* 分类的准确度：accuracy\n",
    "\n",
    "#### 传统评估方法\n",
    "\n",
    "* 目标：找到a和b，使得 $\\sum_{i=1}^m({y}^{(i)} - a{x}^{(i)} -b )^2$ （损失函数-lossfunction、效用函数-utility function）尽可能小\n",
    "* 训练：$\\sum_{i=1}^m({y_{train}}^{(i)} - \\hat{y}_{train}^{(i)})^2$ ，测试: $\\hat{y}_{test}^{(i)} = ax_{test}^{(i)} + b$\n",
    "* 衡量标准： $\\sum_{i=1}^m{y_{test}}^{(i)} - \\hat{y}_{test}^{(i)})^2$ \n",
    "* 问题：和m相关？\n",
    "#### 3种方法\n",
    "* 均方误差MSE（Mean Square的 Error）： $\\frac{1}{m}{\\sum_{i=1}^m({y_{test}}^{(i)} - \\hat{y}_{test}^{(i)})^2}$\n",
    "* 均方根查RMSE（Root Mean Squared Error）： $\\sqrt{\\frac{1}{m}{\\sum_{i=1}^m({y_{test}}^{(i)} - \\hat{y}_{test}^{(i)})^2}}=\\sqrt{MSE_{test}}$\n",
    "* 平均绝对误差MAE(Mean Absolute Error):  $\\frac{1}{m}{\\sum_{i=1}^m|{y_{test}}^{(i)} - \\hat{y}_{test}^{(i)}|}$\n",
    "\n",
    "#### 案例：波士顿房产"
   ]
  },
  {
   "cell_type": "code",
   "execution_count": 9,
   "metadata": {},
   "outputs": [
    {
     "name": "stdout",
     "output_type": "stream",
     "text": [
      ".. _boston_dataset:\n",
      "\n",
      "Boston house prices dataset\n",
      "---------------------------\n",
      "\n",
      "**Data Set Characteristics:**  \n",
      "\n",
      "    :Number of Instances: 506 \n",
      "\n",
      "    :Number of Attributes: 13 numeric/categorical predictive. Median Value (attribute 14) is usually the target.\n",
      "\n",
      "    :Attribute Information (in order):\n",
      "        - CRIM     per capita crime rate by town\n",
      "        - ZN       proportion of residential land zoned for lots over 25,000 sq.ft.\n",
      "        - INDUS    proportion of non-retail business acres per town\n",
      "        - CHAS     Charles River dummy variable (= 1 if tract bounds river; 0 otherwise)\n",
      "        - NOX      nitric oxides concentration (parts per 10 million)\n",
      "        - RM       average number of rooms per dwelling\n",
      "        - AGE      proportion of owner-occupied units built prior to 1940\n",
      "        - DIS      weighted distances to five Boston employment centres\n",
      "        - RAD      index of accessibility to radial highways\n",
      "        - TAX      full-value property-tax rate per $10,000\n",
      "        - PTRATIO  pupil-teacher ratio by town\n",
      "        - B        1000(Bk - 0.63)^2 where Bk is the proportion of blacks by town\n",
      "        - LSTAT    % lower status of the population\n",
      "        - MEDV     Median value of owner-occupied homes in $1000's\n",
      "\n",
      "    :Missing Attribute Values: None\n",
      "\n",
      "    :Creator: Harrison, D. and Rubinfeld, D.L.\n",
      "\n",
      "This is a copy of UCI ML housing dataset.\n",
      "https://archive.ics.uci.edu/ml/machine-learning-databases/housing/\n",
      "\n",
      "\n",
      "This dataset was taken from the StatLib library which is maintained at Carnegie Mellon University.\n",
      "\n",
      "The Boston house-price data of Harrison, D. and Rubinfeld, D.L. 'Hedonic\n",
      "prices and the demand for clean air', J. Environ. Economics & Management,\n",
      "vol.5, 81-102, 1978.   Used in Belsley, Kuh & Welsch, 'Regression diagnostics\n",
      "...', Wiley, 1980.   N.B. Various transformations are used in the table on\n",
      "pages 244-261 of the latter.\n",
      "\n",
      "The Boston house-price data has been used in many machine learning papers that address regression\n",
      "problems.   \n",
      "     \n",
      ".. topic:: References\n",
      "\n",
      "   - Belsley, Kuh & Welsch, 'Regression diagnostics: Identifying Influential Data and Sources of Collinearity', Wiley, 1980. 244-261.\n",
      "   - Quinlan,R. (1993). Combining Instance-Based and Model-Based Learning. In Proceedings on the Tenth International Conference of Machine Learning, 236-243, University of Massachusetts, Amherst. Morgan Kaufmann.\n",
      "\n"
     ]
    }
   ],
   "source": [
    "import numpy as np\n",
    "import matplotlib.pyplot as plt\n",
    "from sklearn import datasets\n",
    "\n",
    "boston = datasets.load_boston()\n",
    "print(boston.DESCR)"
   ]
  },
  {
   "cell_type": "code",
   "execution_count": 10,
   "metadata": {},
   "outputs": [
    {
     "data": {
      "text/plain": [
       "array(['CRIM', 'ZN', 'INDUS', 'CHAS', 'NOX', 'RM', 'AGE', 'DIS', 'RAD',\n",
       "       'TAX', 'PTRATIO', 'B', 'LSTAT'], dtype='<U7')"
      ]
     },
     "execution_count": 10,
     "metadata": {},
     "output_type": "execute_result"
    }
   ],
   "source": [
    "boston.feature_names"
   ]
  },
  {
   "cell_type": "code",
   "execution_count": 11,
   "metadata": {},
   "outputs": [
    {
     "data": {
      "text/plain": [
       "(506,)"
      ]
     },
     "execution_count": 11,
     "metadata": {},
     "output_type": "execute_result"
    }
   ],
   "source": [
    "x = boston.data[:,5] # 只使用房间数量这个特征\n",
    "x.shape"
   ]
  },
  {
   "cell_type": "code",
   "execution_count": 12,
   "metadata": {},
   "outputs": [
    {
     "data": {
      "text/plain": [
       "(506,)"
      ]
     },
     "execution_count": 12,
     "metadata": {},
     "output_type": "execute_result"
    }
   ],
   "source": [
    "y = boston.target\n",
    "y.shape"
   ]
  },
  {
   "cell_type": "code",
   "execution_count": 13,
   "metadata": {},
   "outputs": [
    {
     "data": {
      "image/png": "[encoded data removed]",
      "text/plain": [
       "<Figure size 432x288 with 1 Axes>"
      ]
     },
     "metadata": {
      "needs_background": "light"
     },
     "output_type": "display_data"
    }
   ],
   "source": [
    "plt.scatter(x,y)\n",
    "plt.show()"
   ]
  },
  {
   "cell_type": "code",
   "execution_count": 14,
   "metadata": {},
   "outputs": [
    {
     "data": {
      "text/plain": [
       "50.0"
      ]
     },
     "execution_count": 14,
     "metadata": {},
     "output_type": "execute_result"
    }
   ],
   "source": [
    "np.max(y)"
   ]
  },
  {
   "cell_type": "code",
   "execution_count": 15,
   "metadata": {},
   "outputs": [],
   "source": [
    "x = x[y < 50.0]\n",
    "y = y[y < 50.0]"
   ]
  },
  {
   "cell_type": "code",
   "execution_count": 16,
   "metadata": {},
   "outputs": [
    {
     "data": {
      "image/png": "[encoded data removed]",
      "text/plain": [
       "<Figure size 432x288 with 1 Axes>"
      ]
     },
     "metadata": {
      "needs_background": "light"
     },
     "output_type": "display_data"
    }
   ],
   "source": [
    "plt.scatter(x,y)\n",
    "plt.show()"
   ]
  },
  {
   "cell_type": "markdown",
   "metadata": {},
   "source": [
    "#### 使用简单线性算法回归"
   ]
  },
  {
   "cell_type": "code",
   "execution_count": 17,
   "metadata": {},
   "outputs": [],
   "source": [
    "%run model_selection.py"
   ]
  },
  {
   "cell_type": "code",
   "execution_count": 18,
   "metadata": {},
   "outputs": [
    {
     "data": {
      "text/plain": [
       "(392,)"
      ]
     },
     "execution_count": 18,
     "metadata": {},
     "output_type": "execute_result"
    }
   ],
   "source": [
    "from model_selection import train_test_split\n",
    "\n",
    "x_train, x_test, y_train, y_test = train_test_split(x, y, seed=666)\n",
    "x_train.shape"
   ]
  },
  {
   "cell_type": "code",
   "execution_count": 19,
   "metadata": {},
   "outputs": [
    {
     "data": {
      "text/plain": [
       "(98,)"
      ]
     },
     "execution_count": 19,
     "metadata": {},
     "output_type": "execute_result"
    }
   ],
   "source": [
    "x_test.shape"
   ]
  },
  {
   "cell_type": "code",
   "execution_count": 20,
   "metadata": {},
   "outputs": [],
   "source": [
    "%run simple_linear_regression.py"
   ]
  },
  {
   "cell_type": "code",
   "execution_count": 21,
   "metadata": {},
   "outputs": [
    {
     "data": {
      "text/plain": [
       "<simple_linear_regression.SimpleLinearRegression2 at 0x7fa5474cbf10>"
      ]
     },
     "execution_count": 21,
     "metadata": {},
     "output_type": "execute_result"
    }
   ],
   "source": [
    "from simple_linear_regression import SimpleLinearRegression2\n",
    "reg = SimpleLinearRegression2()\n",
    "reg.fit(x_train,y_train)"
   ]
  },
  {
   "cell_type": "code",
   "execution_count": 22,
   "metadata": {},
   "outputs": [
    {
     "data": {
      "text/plain": [
       "7.8608543562689555"
      ]
     },
     "execution_count": 22,
     "metadata": {},
     "output_type": "execute_result"
    }
   ],
   "source": [
    "reg.a_"
   ]
  },
  {
   "cell_type": "code",
   "execution_count": 23,
   "metadata": {},
   "outputs": [
    {
     "data": {
      "text/plain": [
       "-27.459342806705543"
      ]
     },
     "execution_count": 23,
     "metadata": {},
     "output_type": "execute_result"
    }
   ],
   "source": [
    "reg.b_"
   ]
  },
  {
   "cell_type": "code",
   "execution_count": 24,
   "metadata": {},
   "outputs": [
    {
     "data": {
      "image/png": "[encoded data removed]",
      "text/plain": [
       "<Figure size 432x288 with 1 Axes>"
      ]
     },
     "metadata": {
      "needs_background": "light"
     },
     "output_type": "display_data"
    }
   ],
   "source": [
    "plt.scatter(x_train, y_train)\n",
    "plt.plot(x_train, reg.predict(x_train),color='r')\n",
    "plt.show()"
   ]
  },
  {
   "cell_type": "code",
   "execution_count": 25,
   "metadata": {},
   "outputs": [],
   "source": [
    "y_predict = reg.predict(x_test)"
   ]
  },
  {
   "cell_type": "markdown",
   "metadata": {},
   "source": [
    "##### MSE"
   ]
  },
  {
   "cell_type": "code",
   "execution_count": 26,
   "metadata": {},
   "outputs": [
    {
     "data": {
      "text/plain": [
       "24.156602134387438"
      ]
     },
     "execution_count": 26,
     "metadata": {},
     "output_type": "execute_result"
    }
   ],
   "source": [
    "mse_test = np.sum((y_predict - y_test) ** 2)/ len(y_test)\n",
    "mse_test"
   ]
  },
  {
   "cell_type": "markdown",
   "metadata": {},
   "source": [
    "##### RMSE"
   ]
  },
  {
   "cell_type": "code",
   "execution_count": 27,
   "metadata": {},
   "outputs": [
    {
     "data": {
      "text/plain": [
       "4.914936635846635"
      ]
     },
     "execution_count": 27,
     "metadata": {},
     "output_type": "execute_result"
    }
   ],
   "source": [
    "from math import sqrt\n",
    "\n",
    "rmse_test = sqrt(mse_test)\n",
    "rmse_test"
   ]
  },
  {
   "cell_type": "markdown",
   "metadata": {},
   "source": [
    "##### MAE"
   ]
  },
  {
   "cell_type": "code",
   "execution_count": 28,
   "metadata": {},
   "outputs": [
    {
     "data": {
      "text/plain": [
       "3.5430974409463873"
      ]
     },
     "execution_count": 28,
     "metadata": {},
     "output_type": "execute_result"
    }
   ],
   "source": [
    "mae_test = np.sum(np.absolute(y_predict-y_test))/len(y_test)\n",
    "mae_test"
   ]
  },
  {
   "cell_type": "markdown",
   "metadata": {},
   "source": [
    "##### scikit-learn中的MSE和MAE"
   ]
  },
  {
   "cell_type": "code",
   "execution_count": 29,
   "metadata": {},
   "outputs": [],
   "source": [
    "from sklearn.metrics import mean_squared_error\n",
    "from sklearn.metrics import mean_absolute_error"
   ]
  },
  {
   "cell_type": "code",
   "execution_count": 30,
   "metadata": {},
   "outputs": [
    {
     "data": {
      "text/plain": [
       "24.156602134387438"
      ]
     },
     "execution_count": 30,
     "metadata": {},
     "output_type": "execute_result"
    }
   ],
   "source": [
    "mean_squared_error(y_test, y_predict)"
   ]
  },
  {
   "cell_type": "code",
   "execution_count": 31,
   "metadata": {},
   "outputs": [
    {
     "data": {
      "text/plain": [
       "3.5430974409463873"
      ]
     },
     "execution_count": 31,
     "metadata": {},
     "output_type": "execute_result"
    }
   ],
   "source": [
    "mean_absolute_error(y_test, y_predict)"
   ]
  },
  {
   "cell_type": "markdown",
   "metadata": {},
   "source": [
    "### 2.8评价回归算法R Square（R方）\n",
    "\n",
    "\n",
    "* 问题：分类的准确度=>1最好，0最差\n",
    "* RMSE?MAE?无法比较\n",
    "\n",
    "\n",
    "* R Square计算方法 $SS_{residual}$ Residual Sum of Squares) $SS_{total}$ (Total Sum of Squares)\n",
    "$$R^2 = 1 - \\frac{SS_{residual}}{SS_{total}}$$\n",
    "\n",
    "$$R^2 = 1 - \\frac{\\sum_{i=1}^m(\\hat{y}^{(i)} - {y}^{(i)})^2}{\\sum_{i=1}^m(\\overline{y}^{(i)} - {y}^{(i)})^2}$$\n",
    "\n",
    "* $\\sum_{i=1}^m(\\hat{y}^{(i)} - {y}^{(i)})^2$ 使用我们的模型预测产生的错误\n",
    "* $\\sum_{i=1}^m(\\overline{y}^{(i)} - {y}^{(i)})^2$ 使用 $y=\\overline{y}$预测产生的错误，Baseline Model\n",
    "\n",
    "#### R方相关的结论\n",
    "* $R^2 <= 1$\n",
    "* $R^2$ 越大越好，当我们的预测模型不犯任何错误时，$R^2$得到最大值1\n",
    "* 当我们的模型等于基准模型时，$R^2$ 为0\n",
    "* 如果 $R^2<0$ ，说明我们学习到的模型还不如基准模型。此时，很有可能我们的数据不存在任何线性关系。\n",
    "$$ R^2 = 1 - \\frac{\\sum_{i=1}^m(\\hat{y}^{(i)} - {y}^{(i)})^2/m}{\\sum_{i=1}^m(\\overline{y}^{(i)} - {y}^{(i)})^2/m}$$\n",
    "$$ R^2 = 1 - \\frac{MSE(\\hat{y},y)}{Var(y)}$$"
   ]
  },
  {
   "cell_type": "markdown",
   "metadata": {},
   "source": [
    "##### R Square"
   ]
  },
  {
   "cell_type": "code",
   "execution_count": null,
   "metadata": {},
   "outputs": [],
   "source": [
    "1 - mean_squared_error(y_test, y_predict)/ np.var(y_test)"
   ]
  },
  {
   "cell_type": "markdown",
   "metadata": {},
   "source": [
    "## 3多元线性回归\n",
    "\n",
    "### 3.1 概述\n",
    "#### 假设\n",
    "* 特征 $x^{(i)} = (x_1^{(i)},x_2^{(i)},\\cdots,x_n^{(i)})$\n",
    "* 公式 $ y=\\theta_0 + \\theta_1x_1 + \\theta_2x_2 + \\cdots + \\theta_nx_n $\n",
    "\n",
    "* 预测 $ \\hat{y}^{(i)}=\\theta_0 + \\theta_1x_1^{(i)} + \\theta_2x_2^{(i)} + \\cdots + \\theta_nx_n^{(i)} $\n",
    "#### 目标\n",
    "* 使 $\\sum_{i=1}^m(y^{(i)} - \\hat{y}^{(i)})^2$ 尽可能小\n",
    "\n",
    "#### 求解 \n",
    "$$\\theta = (\\theta_0,\\theta_1,\\theta_2,\\cdots,\\theta_n)^T$$\n",
    "\n",
    "* 预测 $ \\hat{y}^{(i)}=\\theta_0X_0^{(i)} + \\theta_1X_1^{(i)} + \\theta_2X_2^{(i)} + \\cdots + \\theta_nX_n^{(i)} $ ， $X_0^{(i)}\\equiv{1}$\n",
    "* X特征 $ X^{(i)}=(X_0^{(i)} + X_1^{(i)} + X_2^{(i)} + \\cdots + X_n^{(i)}) $\n",
    "$$ \\hat{y}^{(i)}= X^{(i)} \\cdot \\theta $$\n",
    "\n",
    "$$X_b=\n",
    "\\left\\{\n",
    " \\begin{matrix}\n",
    "   1 & X_1^{(1)} & \\cdots & X_n^{(1)}\\\\\n",
    "   1 & X_1^{(2)} & \\cdots & X_n^{(2)} \\\\\n",
    "   \\vdots & \\vdots & \\ddots & \\vdots \\\\\n",
    "   1 & X_1^{(m)} & \\cdots & X_n^{(m)}\n",
    "  \\end{matrix} \n",
    "\\right\\}\n",
    "$$\n",
    "\n",
    "$$ \\hat{y}=X_b \\cdot \\theta $$\n",
    "\n",
    "* 求θ，满足 $ \\hat{y}=X_b \\cdot \\theta $ \n",
    "* 目标：使 $\\sum_{i=1}^m(y^{(i)} - \\hat{y}^{(i)})^2$ 尽可能小\n",
    "* 目标：使 $(y-X_b\\cdot \\theta)^T \\cdot (y - X_b\\cdot \\theta)$\n",
    "\n",
    "* 多元线性回归的正规方程解（Normal Equation） $(X_b^TX_b)^{-1}X_b^Ty$\n",
    "\n",
    "* 问题：时间复杂度高：$O(n^3)$ (优化 $O(n^{2.4})$ )\n",
    "* 优点：不需要对数据做归一化处理\n",
    "\n",
    "$$\\theta=\n",
    "\\left\\{\n",
    " \\begin{matrix}\n",
    "   \\theta_0 \\\\\n",
    "   \\theta_1 \\\\\n",
    "   \\theta_2 \\\\\n",
    "   \\vdots \\\\\n",
    "   \\theta_n\n",
    "  \\end{matrix} \n",
    "\\right\\}\n",
    "$$\n",
    "\n",
    "其中 $\\theta_0$ 为截距intercept, $\\theta_1,\\theta_2,\\cdots,\\theta_n$ 为系数 coefficients"
   ]
  },
  {
   "cell_type": "code",
   "execution_count": null,
   "metadata": {},
   "outputs": [],
   "source": [
    "%run linear_regression.py"
   ]
  },
  {
   "cell_type": "code",
   "execution_count": null,
   "metadata": {},
   "outputs": [],
   "source": [
    "import numpy as np\n",
    "import matplotlib.pyplot as plt\n",
    "from sklearn import datasets\n",
    "\n",
    "boston = datasets.load_boston()\n",
    "\n",
    "X = boston.data\n",
    "y = boston.target\n",
    "\n",
    "X = X[y < 50.0]\n",
    "y = y[y < 50.0]"
   ]
  },
  {
   "cell_type": "code",
   "execution_count": null,
   "metadata": {},
   "outputs": [],
   "source": [
    "X.shape"
   ]
  },
  {
   "cell_type": "code",
   "execution_count": null,
   "metadata": {},
   "outputs": [],
   "source": [
    " %run model_selection.py"
   ]
  },
  {
   "cell_type": "code",
   "execution_count": null,
   "metadata": {},
   "outputs": [],
   "source": [
    "from model_selection import train_test_split\n",
    "\n",
    "X_train, X_test, y_train, y_test = train_test_split(X, y, seed=666)"
   ]
  },
  {
   "cell_type": "code",
   "execution_count": null,
   "metadata": {},
   "outputs": [],
   "source": [
    "from linear_regression import LinearRegression\n",
    "\n",
    "reg = LinearRegression()\n",
    "reg.fit_normal(X_train, y_train)"
   ]
  },
  {
   "cell_type": "code",
   "execution_count": null,
   "metadata": {},
   "outputs": [],
   "source": [
    "reg.intercept_"
   ]
  },
  {
   "cell_type": "code",
   "execution_count": null,
   "metadata": {},
   "outputs": [],
   "source": [
    "reg.score(X_test, y_test)"
   ]
  },
  {
   "cell_type": "markdown",
   "metadata": {},
   "source": [
    "### 3.2 scikit-learn中的回归问题"
   ]
  },
  {
   "cell_type": "code",
   "execution_count": null,
   "metadata": {},
   "outputs": [],
   "source": [
    "import numpy as np\n",
    "import matplotlib.pyplot as plt\n",
    "from sklearn import datasets"
   ]
  },
  {
   "cell_type": "code",
   "execution_count": null,
   "metadata": {},
   "outputs": [],
   "source": [
    "boston = datasets.load_boston()\n",
    "\n",
    "X = boston.data\n",
    "y = boston.target\n",
    "\n",
    "X = X[y < 50.0]\n",
    "y = y[y < 50.0]\n",
    "\n",
    "X.shape"
   ]
  },
  {
   "cell_type": "code",
   "execution_count": null,
   "metadata": {},
   "outputs": [],
   "source": [
    "from sklearn.model_selection import train_test_split\n",
    "X_train, X_test, y_train, y_test = train_test_split(X,y,random_state=666)"
   ]
  },
  {
   "cell_type": "code",
   "execution_count": null,
   "metadata": {},
   "outputs": [],
   "source": [
    "from sklearn.linear_model import LinearRegression\n",
    "\n",
    "lin_reg = LinearRegression()"
   ]
  },
  {
   "cell_type": "code",
   "execution_count": null,
   "metadata": {},
   "outputs": [],
   "source": [
    "lin_reg.fit(X_train, y_train)"
   ]
  },
  {
   "cell_type": "code",
   "execution_count": null,
   "metadata": {},
   "outputs": [],
   "source": [
    "lin_reg.coef_"
   ]
  },
  {
   "cell_type": "code",
   "execution_count": null,
   "metadata": {},
   "outputs": [],
   "source": [
    "lin_reg.intercept_"
   ]
  },
  {
   "cell_type": "code",
   "execution_count": null,
   "metadata": {},
   "outputs": [],
   "source": [
    "lin_reg.score(X_test,y_test)"
   ]
  },
  {
   "cell_type": "markdown",
   "metadata": {},
   "source": [
    "#### kNN Regressor"
   ]
  },
  {
   "cell_type": "code",
   "execution_count": null,
   "metadata": {},
   "outputs": [],
   "source": [
    "from sklearn.neighbors import KNeighborsRegressor\n",
    "\n",
    "knn_reg = KNeighborsRegressor()"
   ]
  },
  {
   "cell_type": "code",
   "execution_count": null,
   "metadata": {},
   "outputs": [],
   "source": [
    "knn_reg.fit(X_train,y_train)"
   ]
  },
  {
   "cell_type": "code",
   "execution_count": null,
   "metadata": {},
   "outputs": [],
   "source": [
    "knn_reg.score(X_test, y_test)"
   ]
  },
  {
   "cell_type": "code",
   "execution_count": null,
   "metadata": {},
   "outputs": [],
   "source": [
    "from sklearn.model_selection import GridSearchCV\n",
    "\n",
    "param_grid = [\n",
    "    {\n",
    "        \"weights\":[\"uniform\"],\n",
    "        \"n_neighbors\":[i for i in range(1,11)]\n",
    "    },\n",
    "    {\n",
    "        \"weights\":[\"distance\"],\n",
    "        \"n_neighbors\":[i for i in range(1,11)],\n",
    "        \"p\": [i for i in range(1,6)]\n",
    "    }\n",
    "]\n",
    "\n",
    "knn_reg = KNeighborsRegressor()\n",
    "\n",
    "grid_search = GridSearchCV(knn_reg, param_grid, n_jobs = -1, verbose = 1)\n",
    "grid_search.fit(X_train, y_train)"
   ]
  },
  {
   "cell_type": "code",
   "execution_count": null,
   "metadata": {},
   "outputs": [],
   "source": [
    "grid_search.best_params_"
   ]
  },
  {
   "cell_type": "markdown",
   "metadata": {},
   "source": [
    "grid_search.best_score_"
   ]
  },
  {
   "cell_type": "code",
   "execution_count": null,
   "metadata": {},
   "outputs": [],
   "source": [
    "grid_search.best_estimator_.score(X_test, y_test)"
   ]
  },
  {
   "cell_type": "markdown",
   "metadata": {},
   "source": [
    "## 4.更多关于线性回归模型的讨论"
   ]
  },
  {
   "cell_type": "code",
   "execution_count": null,
   "metadata": {},
   "outputs": [],
   "source": [
    "import numpy as np\n",
    "from sklearn import datasets\n",
    "\n",
    "boston = datasets.load_boston()\n",
    "\n",
    "\n",
    "X = boston.data\n",
    "y = boston.target\n",
    "\n",
    "X = X[y < 50.0]\n",
    "y = y[y < 50.0]"
   ]
  },
  {
   "cell_type": "code",
   "execution_count": null,
   "metadata": {},
   "outputs": [],
   "source": [
    "from sklearn.linear_model import LinearRegression\n",
    "\n",
    "lin_reg = LinearRegression()\n",
    "\n",
    "lin_reg.fit(X, y)"
   ]
  },
  {
   "cell_type": "code",
   "execution_count": null,
   "metadata": {},
   "outputs": [],
   "source": [
    "lin_reg.coef_"
   ]
  },
  {
   "cell_type": "code",
   "execution_count": null,
   "metadata": {},
   "outputs": [],
   "source": [
    "np.argsort(lin_reg.coef_)"
   ]
  },
  {
   "cell_type": "code",
   "execution_count": null,
   "metadata": {},
   "outputs": [],
   "source": [
    "boston.feature_names"
   ]
  },
  {
   "cell_type": "code",
   "execution_count": null,
   "metadata": {},
   "outputs": [],
   "source": [
    "boston.feature_names[np.argsort(lin_reg.coef_)]"
   ]
  },
  {
   "cell_type": "code",
   "execution_count": null,
   "metadata": {},
   "outputs": [],
   "source": [
    "print(boston.DESCR)"
   ]
  },
  {
   "cell_type": "markdown",
   "metadata": {},
   "source": [
    "### 线性回归算法总结\n",
    "* 典型的参数学习\n",
    "    * 对比KNN：非参数学习\n",
    "* 只能解决回归问题\n",
    "    * 虽然很多分类方法中，线性回归是基础（如逻辑回归）\n",
    "    * 对比kNN：既可以解决分类问题，又可以解决回归问题\n",
    "* 对数据有假设\n",
    "    * 对比kNN：对数据没有假设"
   ]
  }
 ],
 "metadata": {
  "kernelspec": {
   "display_name": "Python 3",
   "language": "python",
   "name": "python3"
  },
  "language_info": {
   "codemirror_mode": {
    "name": "ipython",
    "version": 3
   },
   "file_extension": ".py",
   "mimetype": "text/x-python",
   "name": "python",
   "nbconvert_exporter": "python",
   "pygments_lexer": "ipython3",
   "version": "3.8.3"
  }
 },
 "nbformat": 4,
 "nbformat_minor": 4
}
